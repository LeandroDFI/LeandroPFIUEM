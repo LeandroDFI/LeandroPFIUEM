{
 "cells": [
  {
   "cell_type": "markdown",
   "metadata": {
    "toc": true
   },
   "source": [
    "<h1>Sumário<span class=\"tocSkip\"></span></h1>\n",
    "<div class=\"toc\"><ul class=\"toc-item\"><li><span><a href=\"#Physics-Virtual-Lab\" data-toc-modified-id=\"Physics-Virtual-Lab-1\"><span class=\"toc-item-num\">1&nbsp;&nbsp;</span>Physics Virtual Lab</a></span><ul class=\"toc-item\"><li><span><a href=\"#Movimento-retilíneo-uniformemente-variado:-Queda-livre,-análise-de-dados-e-ajuste.\" data-toc-modified-id=\"Movimento-retilíneo-uniformemente-variado:-Queda-livre,-análise-de-dados-e-ajuste.-1.1\"><span class=\"toc-item-num\">1.1&nbsp;&nbsp;</span>Movimento retilíneo uniformemente variado: Queda livre, análise de dados e ajuste.</a></span><ul class=\"toc-item\"><li><span><a href=\"#Breve-recaptulação-da-Teoria\" data-toc-modified-id=\"Breve-recaptulação-da-Teoria-1.1.1\"><span class=\"toc-item-num\">1.1.1&nbsp;&nbsp;</span>Breve recaptulação da Teoria</a></span></li></ul></li><li><span><a href=\"#Configuração\" data-toc-modified-id=\"Configuração-1.2\"><span class=\"toc-item-num\">1.2&nbsp;&nbsp;</span>Configuração</a></span></li><li><span><a href=\"#Importando-dados\" data-toc-modified-id=\"Importando-dados-1.3\"><span class=\"toc-item-num\">1.3&nbsp;&nbsp;</span>Importando dados</a></span></li><li><span><a href=\"#Selecionando-os-dados-relevantes-(fatiar)\" data-toc-modified-id=\"Selecionando-os-dados-relevantes-(fatiar)-1.4\"><span class=\"toc-item-num\">1.4&nbsp;&nbsp;</span>Selecionando os dados relevantes (fatiar)</a></span><ul class=\"toc-item\"><li><span><a href=\"#Organização-dos-dados\" data-toc-modified-id=\"Organização-dos-dados-1.4.1\"><span class=\"toc-item-num\">1.4.1&nbsp;&nbsp;</span>Organização dos dados</a></span></li><li><span><a href=\"#Obtendo-seu-dado-fatiado\" data-toc-modified-id=\"Obtendo-seu-dado-fatiado-1.4.2\"><span class=\"toc-item-num\">1.4.2&nbsp;&nbsp;</span>Obtendo seu dado fatiado</a></span></li></ul></li><li><span><a href=\"#Ajuste-da-função\" data-toc-modified-id=\"Ajuste-da-função-1.5\"><span class=\"toc-item-num\">1.5&nbsp;&nbsp;</span>Ajuste da função</a></span><ul class=\"toc-item\"><li><span><a href=\"#Qualidade-do-Ajuste\" data-toc-modified-id=\"Qualidade-do-Ajuste-1.5.1\"><span class=\"toc-item-num\">1.5.1&nbsp;&nbsp;</span>Qualidade do Ajuste</a></span></li></ul></li><li><span><a href=\"#Aceleração-gravitacional\" data-toc-modified-id=\"Aceleração-gravitacional-1.6\"><span class=\"toc-item-num\">1.6&nbsp;&nbsp;</span>Aceleração gravitacional</a></span></li></ul></li></ul></div>"
   ]
  },
  {
   "cell_type": "markdown",
   "metadata": {},
   "source": [
    "# Physics Virtual Lab\n",
    "\n",
    "## Movimento retilíneo uniformemente variado: Queda livre, análise de dados e ajuste.\n",
    "\n",
    "Nome: Prof. Leandro de Santana Costa\n",
    "\n",
    "ra: _____________\n",
    "\n",
    "\n",
    "### Breve recaptulação da Teoria"
   ]
  },
  {
   "cell_type": "markdown",
   "metadata": {},
   "source": [
    "Qualquer objeto que é submetido apenas a força da gravidade está em um estado de queda livre. Existem duas características importantes desse movimento que são distintas:\n",
    "\n",
    "Objetos em queda livre, para a aproximção de um caso ideal, não encontram resistência ao ar. Porém é notável que, em um caso real, qualquer objeto submetido apenas a força gravitacional, sofre a ação da força de resistência do ar em diferentes escalas devido seu formato aerodinâmico.\n",
    "\n",
    "<img src=\"queda_1.png\" style=\"width:20px;height:25px\"/>\n",
    "\n",
    "O movimento de queda livre é caracterizado por uma aceleração constante, com valor g = 9.8 $m/s^2$ chamada de aceleração gravitacional.\n",
    "\n",
    "A imagem abaixo exibe a variação do deslocamento, na direção y em função do tempo. Observe que, por meio de uma aproximação desse movimento a uma série, o deslocamento pode ser escrito como $|\\Delta y_{n}| = 10 n - 5$ (n = 0,1,2,...) como ilustrado abaixo. \n",
    "\n",
    "<img src=\"queda_2.png\" alt=\"foo\" title=\"title\" style=\"width:20px;height:20px\"/>\n",
    "\n",
    "A função horária que descreve esse movimento é escrita como\n",
    "\n",
    "$$y(t) = y_{\\text{o}} \\pm v_{\\text{o}} t \\pm \\frac{g}{2} t^{2} $$\n",
    "\n",
    "\n",
    "Onde $y_{\\text{o}}$ é a posição na coordenada y no instante $t=0$, $v_{\\text{o}}$é a velocidade inicial. Nosso propósito nessa aula, será a análise de dados referente a um determinado experimento de queda livre. O termo $\\pm$ refere-se a escolha da orientação do sistema de coordenadas (positivo ou negativo, dependendo da escolha da direção do movimento).\n",
    "\n",
    "\n",
    " "
   ]
  },
  {
   "cell_type": "markdown",
   "metadata": {},
   "source": [
    "## Configuração\n",
    "\n",
    "Execute os comandos a seguir.\n",
    "O pacote `pandas`  será usado para manipular o arquivo de planilha. \n",
    "(Você poderá saber mais sobre o Pandas [here](http://nbviewer.jupyter.org/urls/bitbucket.org/hrojas/learn-pandas/raw/master/lessons/01%20-%20Lesson.ipynb).)\n",
    "O `matplotlib` é o pacote para criar gráficos."
   ]
  },
  {
   "cell_type": "code",
   "execution_count": 8,
   "metadata": {},
   "outputs": [],
   "source": [
    "# pacotes para manipulação dos dados\n",
    "\n",
    "from numpy import *\n",
    "import pandas as pd\n",
    "%matplotlib inline\n",
    "\n",
    "# pacote para confecção de gráficos para visualizar os resultados\n",
    "# de uma maneira mais apreciável e criar nossos modelos\n",
    "import matplotlib.pyplot as plt\n",
    "\n",
    "# ajustando algumas configurações para melhor visualização dos gráficos\n",
    "plt.rcParams['font.size'] = 16                           # altera o tamanho das fontes na figura\n",
    "plt.rcParams['figure.figsize'] = 8, 6                    # altera o tamanho da figura\n",
    "plt.rcParams['axes.axisbelow'] = True                    # para desenhar os grids atrás das curvas e pontos\n",
    "for axis in ['xtick', 'ytick']:                          # loop para aplicar as mudanças nos eixos x e y\n",
    "    plt.rcParams['{}.major.size'.format(axis)] = 10      # altera o tamanho dos ticks maiores\n",
    "    plt.rcParams['{}.minor.size'.format(axis)] = 5       # altera o tamanho dos ticks menores\n",
    "    plt.rcParams['{}.minor.visible'.format(axis)] = True # faz os ticks menores ficarem visíveis"
   ]
  },
  {
   "cell_type": "markdown",
   "metadata": {},
   "source": [
    "##  Importando dados\n",
    "\n",
    "Vamos analisar um conjunto de dados obtidos por meio de um determinado experimento de queda livre. Nos concentraremos no tratamento numérico, ou seja, por meio de um arquivo (tabela) com as medidas de tempo, posição, velocidade e aceleração.\n",
    "\n",
    "Note que os dados são referentes a um experimento, tendo variações e erros provenientes da própria medida.\n",
    "\n",
    "Você precisará de um arquivo de dados antes de continuar. \n",
    "\n",
    "O pacote `pandas` pode ler um arquivo de planilha` csv`. Importamos `pandas` acima como` pd`, para que você possa usar seu código com `pd. <Nome da função>`.\n",
    "\n",
    "Você deve ler o arquivo `csv` com o comando na próxima linha. Você deve alterar o nome do arquivo para o que você salvou. Os dados serão mantidos na variável `queda_livre`."
   ]
  },
  {
   "cell_type": "code",
   "execution_count": 9,
   "metadata": {},
   "outputs": [],
   "source": [
    "queda_livre = pd.read_csv('lab_03-sample_data.csv')"
   ]
  },
  {
   "cell_type": "markdown",
   "metadata": {},
   "source": [
    "Mostrando seus dados na tabela."
   ]
  },
  {
   "cell_type": "code",
   "execution_count": 10,
   "metadata": {
    "scrolled": false
   },
   "outputs": [
    {
     "data": {
      "text/html": [
       "<div>\n",
       "<style scoped>\n",
       "    .dataframe tbody tr th:only-of-type {\n",
       "        vertical-align: middle;\n",
       "    }\n",
       "\n",
       "    .dataframe tbody tr th {\n",
       "        vertical-align: top;\n",
       "    }\n",
       "\n",
       "    .dataframe thead th {\n",
       "        text-align: right;\n",
       "    }\n",
       "</style>\n",
       "<table border=\"1\" class=\"dataframe\">\n",
       "  <thead>\n",
       "    <tr style=\"text-align: right;\">\n",
       "      <th></th>\n",
       "      <th>Tempo (s)</th>\n",
       "      <th>Posição (m)</th>\n",
       "      <th>Velocidade (m/s)</th>\n",
       "      <th>Acceleração (m/s²)</th>\n",
       "    </tr>\n",
       "  </thead>\n",
       "  <tbody>\n",
       "    <tr>\n",
       "      <th>21</th>\n",
       "      <td>1.10</td>\n",
       "      <td>0.771</td>\n",
       "      <td>-2.728</td>\n",
       "      <td>9.173</td>\n",
       "    </tr>\n",
       "    <tr>\n",
       "      <th>22</th>\n",
       "      <td>1.15</td>\n",
       "      <td>0.647</td>\n",
       "      <td>-2.245</td>\n",
       "      <td>9.640</td>\n",
       "    </tr>\n",
       "    <tr>\n",
       "      <th>23</th>\n",
       "      <td>1.20</td>\n",
       "      <td>0.546</td>\n",
       "      <td>-1.757</td>\n",
       "      <td>9.805</td>\n",
       "    </tr>\n",
       "    <tr>\n",
       "      <th>24</th>\n",
       "      <td>1.25</td>\n",
       "      <td>0.471</td>\n",
       "      <td>-1.260</td>\n",
       "      <td>9.835</td>\n",
       "    </tr>\n",
       "    <tr>\n",
       "      <th>25</th>\n",
       "      <td>1.30</td>\n",
       "      <td>0.420</td>\n",
       "      <td>-0.770</td>\n",
       "      <td>9.789</td>\n",
       "    </tr>\n",
       "    <tr>\n",
       "      <th>26</th>\n",
       "      <td>1.35</td>\n",
       "      <td>0.394</td>\n",
       "      <td>-0.283</td>\n",
       "      <td>9.756</td>\n",
       "    </tr>\n",
       "    <tr>\n",
       "      <th>27</th>\n",
       "      <td>1.40</td>\n",
       "      <td>0.392</td>\n",
       "      <td>0.204</td>\n",
       "      <td>9.768</td>\n",
       "    </tr>\n",
       "    <tr>\n",
       "      <th>28</th>\n",
       "      <td>1.45</td>\n",
       "      <td>0.415</td>\n",
       "      <td>0.692</td>\n",
       "      <td>9.825</td>\n",
       "    </tr>\n",
       "    <tr>\n",
       "      <th>29</th>\n",
       "      <td>1.50</td>\n",
       "      <td>0.461</td>\n",
       "      <td>1.183</td>\n",
       "      <td>9.920</td>\n",
       "    </tr>\n",
       "  </tbody>\n",
       "</table>\n",
       "</div>"
      ],
      "text/plain": [
       "    Tempo (s)  Posição (m)  Velocidade (m/s)  Acceleração (m/s²)\n",
       "21       1.10        0.771            -2.728               9.173\n",
       "22       1.15        0.647            -2.245               9.640\n",
       "23       1.20        0.546            -1.757               9.805\n",
       "24       1.25        0.471            -1.260               9.835\n",
       "25       1.30        0.420            -0.770               9.789\n",
       "26       1.35        0.394            -0.283               9.756\n",
       "27       1.40        0.392             0.204               9.768\n",
       "28       1.45        0.415             0.692               9.825\n",
       "29       1.50        0.461             1.183               9.920"
      ]
     },
     "execution_count": 10,
     "metadata": {},
     "output_type": "execute_result"
    }
   ],
   "source": [
    "queda_livre[21:30]"
   ]
  },
  {
   "cell_type": "markdown",
   "metadata": {},
   "source": [
    "Queremos tirar os valores dos dados da tabela para podermos trabalhar com os números. Precisamos saber os nomes das colunas, chamadas de \"chaves\"."
   ]
  },
  {
   "cell_type": "code",
   "execution_count": 11,
   "metadata": {
    "scrolled": false
   },
   "outputs": [
    {
     "data": {
      "text/plain": [
       "Index(['Tempo (s)', 'Posição (m)', 'Velocidade (m/s)', 'Acceleração (m/s²)'], dtype='object')"
      ]
     },
     "execution_count": 11,
     "metadata": {},
     "output_type": "execute_result"
    }
   ],
   "source": [
    "queda_livre.keys()"
   ]
  },
  {
   "cell_type": "markdown",
   "metadata": {},
   "source": [
    "Nós obtemos as colunas necessárias nas variáveis que chamaremos de `t_all` e` y_all`."
   ]
  },
  {
   "cell_type": "code",
   "execution_count": 12,
   "metadata": {},
   "outputs": [],
   "source": [
    "t_all = queda_livre['Tempo (s)'].values\n",
    "y_all = queda_livre['Posição (m)'].values"
   ]
  },
  {
   "cell_type": "markdown",
   "metadata": {},
   "source": [
    "Faça um gráfico rápido desses dados. Você pode fazer isso com as bibliotecas que importamos acima como `plt`."
   ]
  },
  {
   "cell_type": "code",
   "execution_count": 13,
   "metadata": {
    "scrolled": false
   },
   "outputs": [
    {
     "data": {
      "text/plain": [
       "[<matplotlib.lines.Line2D at 0x7fe8b3eb2da0>]"
      ]
     },
     "execution_count": 13,
     "metadata": {},
     "output_type": "execute_result"
    },
    {
     "data": {
      "image/png": "[encoded data removed]",
      "text/plain": [
       "<Figure size 576x432 with 1 Axes>"
      ]
     },
     "metadata": {},
     "output_type": "display_data"
    }
   ],
   "source": [
    "plt.grid()\n",
    "\n",
    "# é importante colocar o nome das quantidade nos eixos\n",
    "plt.xlabel('tempo, t [s]');\n",
    "plt.ylabel('posição, S [m]');\n",
    "plt.title('Posição do corpo em função do tempo.');\n",
    "plt.plot(t_all,y_all)"
   ]
  },
  {
   "cell_type": "markdown",
   "metadata": {},
   "source": [
    "Note que a parte inicial dos dados não segue o comportamento de um gráfico que representa a queda livre de um corpo, que se deve a parte inicial do experimento onde ruídos são mais comuns. Porém vamos nos concentrar no comportamento da parabola e, para isso vamos selecionar os dados de forma conveniente."
   ]
  },
  {
   "cell_type": "markdown",
   "metadata": {},
   "source": [
    "## Selecionando os dados relevantes (fatiar)\n",
    "\n",
    "###  Organização dos dados\n",
    "\n",
    "O termo \"fatiar\" refere-se a uma parte de um conjunto de dados. Queremos obter apenas a fatia que inclui os dados de queda livre: a parábola. Para fazer isso, usamos indicações nas matrizes de dados.\n",
    "\n",
    "Aqui está um exemplo de uma matriz `A` com alguns dados:"
   ]
  },
  {
   "cell_type": "code",
   "execution_count": 14,
   "metadata": {},
   "outputs": [
    {
     "name": "stdout",
     "output_type": "stream",
     "text": [
      "[42 44 47 50 54]\n"
     ]
    }
   ],
   "source": [
    "A_a = array((42,44,47,50,54))\n",
    "print(A_a)"
   ]
  },
  {
   "cell_type": "markdown",
   "metadata": {},
   "source": [
    "Agora defina uma nova matriz chamada `B` que tenha apenas uma fatia dos dados` A` do índice `0` ao índice` 3` (ou seja, os três primeiros elementos de `A`):"
   ]
  },
  {
   "cell_type": "code",
   "execution_count": 15,
   "metadata": {},
   "outputs": [
    {
     "name": "stdout",
     "output_type": "stream",
     "text": [
      "[42 44 47]\n"
     ]
    }
   ],
   "source": [
    "B_b= A_a[0:3]\n",
    "print(B_b)"
   ]
  },
  {
   "cell_type": "markdown",
   "metadata": {},
   "source": [
    "###  Obtendo seu dado fatiado\n",
    "\n",
    "Queremos encontrar um índice inicial e final (`i, f`) para o seu conjunto de dados, para que apenas consideremos os dados de queda livre (parabólica).\n",
    "\n",
    "Você precisará brincar com a primeira linha no seguinte bloco de código:\n",
    "\n",
    "> `i,f = 18,38`\n",
    "\n",
    "Altere os índices inicial e final e plote os dados. Mude novamente até encontrar a fatia de dados perfeita.\n",
    "\n",
    "O código após o corte de dados plotado $y$ versus $t$, bem como $\\Delta y$ versus $t$ é mostrado abaixo. Uma olhada em ambos ajudará a obter a melhor fatia possível. (Veja  [matplotlib documentation](https://matplotlib.org/api/_as_gen/matplotlib.pyplot.plot.html#matplotlib.pyplot.plot) para aprender mais sobre gráfico de funções.)"
   ]
  },
  {
   "cell_type": "code",
   "execution_count": 59,
   "metadata": {
    "scrolled": false
   },
   "outputs": [
    {
     "data": {
      "text/plain": [
       "Text(0.5, 1.0, '$\\\\Delta$ y')"
      ]
     },
     "execution_count": 59,
     "metadata": {},
     "output_type": "execute_result"
    },
    {
     "data": {
      "image/png": "[encoded data removed]",
      "text/plain": [
       "<Figure size 576x432 with 2 Axes>"
      ]
     },
     "metadata": {},
     "output_type": "display_data"
    }
   ],
   "source": [
    "i,f = 18,38          # you'll need to change these to get the right slice\n",
    "t = t_all[i:f]                # t is a slice of t_all\n",
    "y = y_all[i:f]                # y is a slice of y_all\n",
    "\n",
    "\n",
    "# make plots:\n",
    "plt.subplot(121)      # 221 means \"on a 2x2 grid, plot number 1\"\n",
    "#plt.grid()\n",
    "plt.plot(t,y,'o',label='')\n",
    "plt.xlabel('Tempo (s)')            # label time axis \n",
    "plt.ylabel('$y$ posição (m)')    # label position axis \n",
    "plt.title('Altura vs Tempo')\n",
    "plt.subplot(122)      # 222 means \"on a 2x2 grid, plot number 2\"\n",
    "#plt.grid()\n",
    "plt.plot( y[1:]-y[:-1],'o',label='')\n",
    "plt.xlabel('Tempo (s)')            # label time axis \n",
    "plt.title('$\\Delta$ y')"
   ]
  },
  {
   "cell_type": "markdown",
   "metadata": {},
   "source": [
    "##  Ajuste da função"
   ]
  },
  {
   "cell_type": "markdown",
   "metadata": {},
   "source": [
    "A melhor maneira de encontrar o valor da aceleração de queda livre é * ajustar uma função * aos nossos dados. Esta é uma técnica experimental útil.\n",
    "\n",
    "Suponha que tentamos encontrar a função polinomial\n",
    "\n",
    "$$\n",
    "p(t) = A t^2 + B t + C \\approx y(t)\n",
    "$$ \n",
    "\n",
    "que melhor corresponda ao nosso conjunto de dados. O Python numérico (`numpy`) pode fazer isso com a função `polyfit`. Você pode aprender os detalhes no [polyfit documentation](https://docs.scipy.org/doc/numpy-1.13.0/reference/generated/numpy.polyfit.html).\n",
    "\n",
    "Esperamos que nossos dados de $ y $ versus $ t $ sigam um polinômio porque, em queda livre, a equação de movimento é\n",
    "\n",
    "$$\n",
    "y(t) = y_0 + v_0 t + \\tfrac{1}{2} a t^2\n",
    "$$\n",
    "\n",
    "onde $ a $ é a aceleração devido à gravidade (também chamada de $ g $).\n",
    "\n",
    "Vamos aplicar os nossos dados à função `polyfit` com os parâmetros A, B e C que ela ajuste a um polinômio de grau 2 - isto é, uma parábola. A função retorna os coeficientes $ A, B, C $ que melhor se ajustam aos nossos dados."
   ]
  },
  {
   "cell_type": "code",
   "execution_count": 25,
   "metadata": {},
   "outputs": [
    {
     "name": "stdout",
     "output_type": "stream",
     "text": [
      "best fit parabola has coefficients\n",
      "     A= 4.908452950558197 B= -13.531136021872824 C= 9.714826406926377\n"
     ]
    }
   ],
   "source": [
    "A,B,C = polyfit(t,y,2)       # fit a degree-2 polynomial to the t,y data\n",
    "print('best fit parabola has coefficients')\n",
    "print('     A=',A,'B=',B,'C=',C)"
   ]
  },
  {
   "cell_type": "markdown",
   "metadata": {},
   "source": [
    "Vamos ver o quão bem esse polinômio se ajusta aos nossos dados, os colocando juntos em um mesmo gráfico.\n",
    "\n",
    "Para plotar a parábola, usaremos a função `linspace` para criar uma matriz de muitos valores de tempo, do índice` 0` até a última unidade determinada, `t [-1]`. Em seguida, conecte esses tempos no polinômio com os valores de `A, B, C` que encontramos acima."
   ]
  },
  {
   "cell_type": "code",
   "execution_count": 61,
   "metadata": {},
   "outputs": [
    {
     "data": {
      "text/plain": [
       "<matplotlib.legend.Legend at 0x7fe8b9affb38>"
      ]
     },
     "execution_count": 61,
     "metadata": {},
     "output_type": "execute_result"
    },
    {
     "data": {
      "image/png": "[encoded data removed]",
      "text/plain": [
       "<Figure size 576x432 with 1 Axes>"
      ]
     },
     "metadata": {},
     "output_type": "display_data"
    }
   ],
   "source": [
    "t_axis = linspace(t[0],t[-1],20)     # t_axis is an array of 20 values from initial to final\n",
    "pp = A*t_axis**2 + B*t_axis + C       # evaluate the polynomial at all tt values\n",
    "plt.plot(t,y,'o',label='dado')    # plot the data with dots ('o')\n",
    "plt.grid()\n",
    "plt.plot(t_axis,pp,label='Ajuste parabola $y(t)=4,\\!9t^{2} -13,\\!5t + 9,\\!7$')  # plot the parabola at the t_axis times\n",
    "plt.xlabel('Tempo (s)')\n",
    "plt.ylabel('Posição (m)')\n",
    "plt.legend(loc='upper center')        # show graph legend "
   ]
  },
  {
   "cell_type": "markdown",
   "metadata": {},
   "source": [
    "Se você não vir uma linha passando com precisão pelos seus dados, verifique as etapas anteriores.\n",
    "\n",
    "O processo usado pela função `polyfit` é chamado de\" ajuste de mínimos quadrados \". Você pode aprender mais sobre isso em [this summary](https://www.colorado.edu/physics/phys3340/phys3340_sp12/CourseInformation/Activities/Measurement_and_Uncertainty/Error%20Analysis%20Activity%202.pdf) (pdf), ou em [proper treatment of error analysis](https://www.amazon.com/Introduction-Error-Analysis-Uncertainties-Measurements/dp/093570275X).\n",
    "\n",
    "Aliás, se você deseja salvar o gráfico criado acima, para isso adicione a linha\n",
    "\n",
    "    plt.savefig('medida_g')\n",
    "    \n",
    "no final da célula anterior (nomeie como quiser)."
   ]
  },
  {
   "cell_type": "markdown",
   "metadata": {},
   "source": [
    "### Qualidade do Ajuste"
   ]
  },
  {
   "cell_type": "markdown",
   "metadata": {},
   "source": [
    "Com base na aula anterior, iremos aplicar a nossa análise, o teste $R^{2}$, para termos, qualitativamente a informação sobre a relevancia estatística de nosso estudo. "
   ]
  },
  {
   "cell_type": "code",
   "execution_count": 41,
   "metadata": {},
   "outputs": [
    {
     "name": "stdout",
     "output_type": "stream",
     "text": [
      "Melhor ajuste com os coeficientes A= 4.908452950558197 , B= -13.531136021872824 e C= 9.714826406926377\n",
      "R2: 0.9999890864549217\n"
     ]
    }
   ],
   "source": [
    "import numpy as np\n",
    "\n",
    "# Obtendo o valor de R2\n",
    "yresid = y - pp # resíduo = valor real - valor ajustado (valor predito)\n",
    "SQresid = sum(pow(yresid,2)) # soma dos quadrados dos resíduos \n",
    "SQtotal = len(y) * np.var(y) # número de elementos do vetor y vezes a variância de y\n",
    "R2 = 1 - SQresid/SQtotal # coeficiente de determinação\n",
    "\n",
    "print('Melhor ajuste com os coeficientes', 'A=', A,', B=',B,'e C=',C) # imprime o intercepto e a inclinação # imprime o intercepto e a inclinação\n",
    "print('R2:',R2) # imprime coeficiente de determinação"
   ]
  },
  {
   "cell_type": "code",
   "execution_count": 62,
   "metadata": {},
   "outputs": [
    {
     "data": {
      "text/plain": [
       "<matplotlib.legend.Legend at 0x7fe8b9bd0cc0>"
      ]
     },
     "execution_count": 62,
     "metadata": {},
     "output_type": "execute_result"
    },
    {
     "data": {
      "image/png": "[encoded data removed]",
      "text/plain": [
       "<Figure size 576x432 with 1 Axes>"
      ]
     },
     "metadata": {},
     "output_type": "display_data"
    }
   ],
   "source": [
    "plt.grid()\n",
    "plt.plot(t,y,'o',label='dado            $R^{2}$ = 0.999989')    # plot the data with dots ('o')\n",
    "plt.plot(t_axis,pp,label='Ajuste parabola $y(t)=4,\\!9t^{2} -13,\\!5t + 9,\\!7$')  # plot the parabola at the t_axis times\n",
    "plt.xlabel('Tempo (s)')\n",
    "plt.ylabel('Posição (m)')\n",
    "plt.legend(loc='upper center')        # show graph legend "
   ]
  },
  {
   "cell_type": "raw",
   "metadata": {},
   "source": [
    "import numpy as np\n",
    "\n",
    "x_f = np.array([0,1,2,3,4,5,6,7]) # vetor com os valores de x\n",
    "y_f = np.array([0.32,0.12,0.21,0.47,0.52,0.76,0.87,0.96]) # vetor com os valores de y\n",
    "\n",
    "p1 = np.polyfit(x_f,y_f,1) # fornece os valores do intercepto e a inclinação\n",
    "\n",
    "yfit = p1[0] * x_f + p1[1] # calcula os valores preditos\n",
    "yresid = y_f - yfit # resíduo = valor real - valor ajustado (valor predito)\n",
    "SQresid = sum(pow(yresid,2)) # soma dos quadrados dos resíduos \n",
    "SQtotal = len(y_f) * np.var(y_f) # número de elementos do vetor y vezes a variância de y\n",
    "R2 = 1 - SQresid/SQtotal # coeficiente de determinação\n",
    "\n",
    "\n",
    "print('imprime o intercepto e a inclinação: ' + str(p1))\n",
    "print('imprime coeficiente de determinação: ' + str(R2))\n",
    "#print(p1) # imprime o intercepto e a inclinação\n",
    "#print(R2) # imprime coeficiente de determinação\n",
    "\n",
    "import matplotlib.pyplot as plt\n",
    "\n",
    "plt.plot(x_f,y_f,'o')\n",
    "plt.plot(x,np.polyval(p1,x),'g--')\n",
    "plt.xlabel(\"x\")\n",
    "plt.ylabel(\"y\")\n",
    "plt.show()"
   ]
  },
  {
   "cell_type": "markdown",
   "metadata": {},
   "source": [
    "## Aceleração gravitacional\n",
    "\n",
    "Qual é a incerteza nos coeficientes de ajuste? Agora temos o coeficiente $ A $ desde o ajuste, mas queremos saber $ A \\pm \\delta A $, onde $ \\delta A $ é a incerteza absoluta.\n",
    "\n",
    "Quando a função `polyfit` é chamada com um parâmetro adicional:\n",
    "\n",
    "    polyfit(t,y,2,cov=True)\n",
    "    \n",
    "\n",
    "retorna os coeficientes `A, B, C` como antes e também uma\" matriz de covariância \"que fornece a variação em cada um dos coeficientes de ajuste. A covariancia é o quadrado do desvio padrão e o desvio padrão é a incerteza no coeficiente de ajuste. A variância de cada coeficiente aparece na diagonal da matriz de covariância. Esses termos foram analisados nos módulos inicias desse curso.\n",
    "\n",
    "Encontramos a incerteza em cada parâmetro de ajuste (`dA, dB, dC`) da seguinte forma:"
   ]
  },
  {
   "cell_type": "code",
   "execution_count": 54,
   "metadata": {},
   "outputs": [
    {
     "name": "stdout",
     "output_type": "stream",
     "text": [
      "fit coefficients are\n",
      "   A =  4.908452950558197 ± 0.004184153373404676 m/s^2\n",
      "   B =  -13.531136021872824 ± 0.011973187186548296 m/s\n",
      "   C =  9.714826406926377 ± 0.008297149500519924 m\n"
     ]
    }
   ],
   "source": [
    "(A,B,C),covariance = polyfit(t,y,2,cov=True)        # Ajuste com a matriz de covariância\n",
    "dA,dB,dC = sqrt(diag(covariance))\n",
    "print('fit coefficients are')\n",
    "print('   A = ',A,'±',dA,'m/s^2')\n",
    "print('   B = ',B,'±',dB,'m/s')\n",
    "print('   C = ',C,'±',dC,'m')"
   ]
  },
  {
   "cell_type": "markdown",
   "metadata": {},
   "source": [
    "Agora você mostrar a medida da experiência para o valor da aceleração devido à queda livre, $g$, juntamente com a incerteza.\n"
   ]
  },
  {
   "cell_type": "code",
   "execution_count": 55,
   "metadata": {},
   "outputs": [
    {
     "name": "stdout",
     "output_type": "stream",
     "text": [
      "Medida do valor de g =  9.714826406926377 ± 0.008297149500519924 m/s^2\n"
     ]
    }
   ],
   "source": [
    "g = 9.714826406926377    # \n",
    "dg = 0.008297149500519924   # \n",
    "print('Medida do valor de g = ',g,'±',dg,'m/s^2')\n",
    "\n"
   ]
  }
 ],
 "metadata": {
  "anaconda-cloud": {},
  "kernelspec": {
   "display_name": "Python 3",
   "language": "python",
   "name": "python3"
  },
  "language_info": {
   "codemirror_mode": {
    "name": "ipython",
    "version": 3
   },
   "file_extension": ".py",
   "mimetype": "text/x-python",
   "name": "python",
   "nbconvert_exporter": "python",
   "pygments_lexer": "ipython3",
   "version": "3.5.6"
  },
  "toc": {
   "base_numbering": 1,
   "nav_menu": {},
   "number_sections": true,
   "sideBar": true,
   "skip_h1_title": false,
   "title_cell": "Sumário",
   "title_sidebar": "Contents",
   "toc_cell": true,
   "toc_position": {},
   "toc_section_display": true,
   "toc_window_display": true
  }
 },
 "nbformat": 4,
 "nbformat_minor": 1
}
